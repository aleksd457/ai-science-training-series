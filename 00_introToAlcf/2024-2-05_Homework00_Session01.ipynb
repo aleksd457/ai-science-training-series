{
 "cells": [
  {
   "cell_type": "code",
   "execution_count": 3,
   "id": "6e864b80-c1d0-41f7-ad60-4b9d3f375e5e",
   "metadata": {},
   "outputs": [],
   "source": [
    "import numpy as np"
   ]
  },
  {
   "cell_type": "code",
   "execution_count": 7,
   "id": "c70f8a20-6b34-41c8-98ff-052d8d140fe4",
   "metadata": {},
   "outputs": [
    {
     "name": "stdout",
     "output_type": "stream",
     "text": [
      "My name is Aleksandar Dyulgerov\n",
      "[ 6  7  8  9 10]\n",
      "[ 1  2  3  4  5  6  7  8  9 10]\n",
      "[ 6  7  8  9 10]\n"
     ]
    }
   ],
   "source": [
    "#This is me practicing to run a script on Jupyter notebook on the Polaris supercomputer\n",
    "\n",
    "print('My name is Aleksandar Dyulgerov')\n",
    "\n",
    "list = np.array([1,2,3,4,5,6,7,8,9,10]) #numpy array\n",
    "\n",
    "mask = list > 5 #boolean mask\n",
    "\n",
    "print(list[mask])\n",
    "\n",
    "print(list)\n",
    "\n",
    "list = list[mask]\n",
    "\n",
    "print(list)"
   ]
  }
 ],
 "metadata": {
  "kernelspec": {
   "display_name": "Python 3 (ipykernel)",
   "language": "python",
   "name": "python3"
  },
  "language_info": {
   "codemirror_mode": {
    "name": "ipython",
    "version": 3
   },
   "file_extension": ".py",
   "mimetype": "text/x-python",
   "name": "python",
   "nbconvert_exporter": "python",
   "pygments_lexer": "ipython3",
   "version": "3.9.15"
  }
 },
 "nbformat": 4,
 "nbformat_minor": 5
}
